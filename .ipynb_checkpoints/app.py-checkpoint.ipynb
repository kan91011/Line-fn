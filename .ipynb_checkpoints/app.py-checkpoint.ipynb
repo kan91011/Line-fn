{
 "cells": [
  {
   "cell_type": "code",
   "execution_count": 1,
   "metadata": {},
   "outputs": [],
   "source": [
    "# !pip3 install flask\n",
    "# !pip3 install line-bot-sdk\n",
    "# !pip install animation\n",
    "# !pip install pandas\n",
    "# 上傳至heroku 須把相關安裝套件註解"
   ]
  },
  {
   "cell_type": "markdown",
   "metadata": {},
   "source": [
    "# Application 主架構"
   ]
  },
  {
   "cell_type": "code",
   "execution_count": 2,
   "metadata": {},
   "outputs": [],
   "source": [
    "from flask import Flask, request, abort                # 引用 Web Server 套件\n",
    "from linebot import LineBotApi, WebhookHandler         # 從 linebot 套件包裡引用 LineBotApi 與 WebhookHandler 類別\n",
    "from linebot.exceptions import InvalidSignatureError   # 引用無效簽章錯誤\n",
    "from linebot.models import MessageEvent, TextMessage, TextSendMessage, ImageMessage\n",
    "from linebot.exceptions import LineBotApiError\n",
    "import pandas as pd\n",
    "import json\n",
    "\n",
    "import tmark_input_word as tiw\n",
    "\n",
    "# 載入基礎設定檔\n",
    "secretFileContentJson = json.load(open(\"./line_secret_key\",'r',encoding='utf8'))\n",
    "\n",
    "# 設定 Server 啟用細節\n",
    "app = Flask(__name__,static_url_path = \"/material\" , static_folder = \"./material/\")\n",
    "\n",
    "# 生成實體物件\n",
    "line_bot_api = LineBotApi(secretFileContentJson.get(\"channel_access_token\"))\n",
    "handler      = WebhookHandler(secretFileContentJson.get(\"secret_key\"))\n",
    "\n",
    "# 啟動 server 對外接口，使 Line 能丟消息進來\n",
    "@app.route(\"/\", methods=['POST'])\n",
    "def callback():\n",
    "    # get X-Line-Signature header value\n",
    "    signature = request.headers['X-Line-Signature']\n",
    "\n",
    "    # get request body as text\n",
    "    body = request.get_data(as_text=True)\n",
    "    app.logger.info(\"Request body: \" + body)\n",
    "\n",
    "    # handle webhook body\n",
    "    try:\n",
    "        handler.handle(body, signature)\n",
    "    except InvalidSignatureError:\n",
    "        abort(400)\n",
    "\n",
    "    return 'OK'"
   ]
  },
  {
   "cell_type": "markdown",
   "metadata": {},
   "source": [
    "若收到圖片消息時，先回覆用戶文字消息，並從Line上將照片拿回。"
   ]
  },
  {
   "cell_type": "code",
   "execution_count": 3,
   "metadata": {},
   "outputs": [],
   "source": [
    "saveAns = ''\n",
    "\n",
    "@handler.add(MessageEvent, message=ImageMessage)\n",
    "def handle_message(event):\n",
    "    global saveAns\n",
    "    \n",
    "    line_bot_api.reply_message(\n",
    "        event.reply_token, \n",
    "        TextSendMessage(text='照片已上傳成功~' + ' \\n' + '請輸入 #來源,類別（ex. 生命 032）\\n數字範圍是 001 ~ 032'))\n",
    "    \n",
    "#     line_bot_api.reply_message(\n",
    "#         event.reply_token,\n",
    "#         TextSendMessage(text='stringAns'))    \n",
    " \n",
    "#     message_content = line_bot_api.get_message_content(event.message.id)\n",
    "\n",
    "    \n",
    "#     with open('../images/'+event.message.id+'.jpg', 'wb') as fd:\n",
    "#         for chunk in message_content.iter_content():\n",
    "#             fd.write(chunk)\n"
   ]
  },
  {
   "cell_type": "code",
   "execution_count": 4,
   "metadata": {},
   "outputs": [],
   "source": [
    "'''\n",
    "handler處理文字消息\n",
    "\n",
    "收到用戶回應的文字消息，\n",
    "按文字消息內容，往素材資料夾中，找尋以該內容命名的資料夾，讀取裡面的 reply.json\n",
    "\n",
    "轉譯 json 後，將消息回傳給用戶\n",
    "'''\n",
    "\n",
    "# 文字消息處理\n",
    "@handler.add(MessageEvent,message=TextMessage)\n",
    "def process_text_message(event):\n",
    "    global saveAns  # 全域設定  saveAns \n",
    "    \n",
    "    # 用戶輸入來源\n",
    "    stringList = event.message.text.split(' ')\n",
    "    \n",
    "    # 先判別文字是否為 2 個\n",
    "    if len(stringList) == 2:\n",
    "        # 在判斷 類型範圍\n",
    "        if  int(stringList[-1]) >= 1 and int(stringList[-1]) <= 32:\n",
    "            \n",
    "#             # 第一個字不能是數字\n",
    "#             if int(stringList[0][0]) not in [0, 1, 2, 3, 4, 5, 6, 7, 8, 9]:\n",
    "\n",
    "\n",
    "                print(stringList[0], stringList[1])\n",
    "\n",
    "                line_bot_api.reply_message(\n",
    "                    event.reply_token,\n",
    "                    TextSendMessage(text='名稱: '+ stringList[0] + '\\n類別: '+ stringList[1] + '\\n模型計算中請稍後~\\n將會呈現相似文字')\n",
    "                )\n",
    "\n",
    "                tg, tp = stringList[0], stringList[1]\n",
    "\n",
    "                gCodeTnameCleanCsv = r\"./g_code_tname_clean.csv\"   # 跟改資料路徑\n",
    "                ans, x, y_df = tiw.find_same_word(tg, tp, gCodeTnameCleanCsv)\n",
    "\n",
    "                # 文字訊息\n",
    "\n",
    "                print(ans)\n",
    "\n",
    "                ansString = ''\n",
    "                ansString01 = \"相似字結果\"\n",
    "                for i in range(len(ans)):\n",
    "                   \n",
    "                    ansString += f\"{ans.iloc[i]['name']} {str(ans.iloc[i]['score'])}\"+\"\\n\"\n",
    "                                           \n",
    "                                                                                                                \n",
    "                \n",
    "    \n",
    "#                     ansString += '{name} : {score:.2f}'.format(name=ans['name'][0], score=ans['score'][0])\n",
    "#                     ansString = \"{0} {1:.2f}\".format(ans['name'][0], ans['score'][0])\n",
    "\n",
    "\n",
    "\n",
    "                    print(ansString)\n",
    "\n",
    "                line_bot_api.push_message('Uf99bc6273ebeefaf4c47f306853cf549', TextSendMessage(text=ansString01))\n",
    "                line_bot_api.push_message('Uf99bc6273ebeefaf4c47f306853cf549', TextSendMessage(text=ansString))\n",
    "\n",
    "                                           \n",
    "\n",
    "                print('可以看結果')\n",
    "                \n",
    "#         else:\n",
    "#             line_bot_api.reply_message(\n",
    "#                 event.reply_token,\n",
    "#                 TextSendMessage(text='超出類型範圍')\n",
    "#             )\n",
    "    else:\n",
    "#         textJson = '{\"type\": \"text\",\"text\": \"歡迎加入~~ A 商 B 法 事務所~~~\\\\n\\\\n我們是AI機器人， 有關商標法案的訊息我們都能為你/妳解答，我們的出現就要保障人們權益。\\\\n\\\\n為了方便用戶~ 立即 公司申請 及 個人 專利申請  只需透過Line 即可完成喔。\\\\n我們也提供 案件規劃 及 律師委託。\\\\n\\\\n~~也可即時預約諮詢喔~~\\\\n\"}'\n",
    "#         jsonFile = json.loads(textJson)\n",
    "        \n",
    "        with open('test.json', 'r', encoding='utf8') as f:\n",
    "            jsonFile = json.load(f)\n",
    "    \n",
    "        line_bot_api.reply_message(\n",
    "            event.reply_token,\n",
    "            TextSendMessage.new_from_json_dict(jsonFile)\n",
    "        )"
   ]
  },
  {
   "cell_type": "code",
   "execution_count": 5,
   "metadata": {},
   "outputs": [],
   "source": [
    "# def detect_json_array_to_new_message_array(fileName):\n",
    "    \n",
    "#     #開啟檔案，轉成json\n",
    "#     with open(fileName,'r',encoding='utf8') as f:\n",
    "#         jsonArray = json.load(f)\n",
    "    \n",
    "#     # 解析json\n",
    "#     returnArray = []\n",
    "#     for jsonObject in jsonArray:\n",
    "\n",
    "#         # 讀取其用來判斷的元件\n",
    "#         message_type = jsonObject.get('type')\n",
    "        \n",
    "#         # 轉換\n",
    "#         if message_type == 'text':\n",
    "#             returnArray.append(TextSendMessage.new_from_json_dict(jsonObject))\n",
    "#         elif message_type == 'imagemap':\n",
    "#             returnArray.append(ImagemapSendMessage.new_from_json_dict(jsonObject))\n",
    "#         elif message_type == 'template':\n",
    "#             returnArray.append(TemplateSendMessage.new_from_json_dict(jsonObject))\n",
    "#         elif message_type == 'image':\n",
    "#             returnArray.append(ImageSendMessage.new_from_json_dict(jsonObject))\n",
    "#         elif message_type == 'sticker':\n",
    "#             returnArray.append(StickerSendMessage.new_from_json_dict(jsonObject))  \n",
    "#         elif message_type == 'audio':\n",
    "#             returnArray.append(AudioSendMessage.new_from_json_dict(jsonObject))  \n",
    "#         elif message_type == 'location':\n",
    "#             returnArray.append(LocationSendMessage.new_from_json_dict(jsonObject))\n",
    "#         elif message_type == 'flex':\n",
    "#             returnArray.append(FlexSendMessage.new_from_json_dict(jsonObject))  \n",
    "#         elif message_type == 'video':\n",
    "#             returnArray.append(VideoSendMessage.new_from_json_dict(jsonObject))    \n",
    "\n",
    "\n",
    "#     # 回傳\n",
    "#     return returnArray"
   ]
  },
  {
   "cell_type": "code",
   "execution_count": 6,
   "metadata": {},
   "outputs": [],
   "source": [
    "#         # 讀取本地檔案，並轉譯成消息\n",
    "#         result_message_array =[]\n",
    "#         replyJsonPath = \"material/\"+event.message.text+\"/reply.json\"\n",
    "#         result_message_array = detect_json_array_to_new_message_array(replyJsonPath)\n",
    "\n",
    "#         # 發送\n",
    "#         line_bot_api.reply_message(\n",
    "#             event.reply_token,\n",
    "#             result_message_array\n",
    "# #             )\n",
    "#         line_bot_api.reply_message(\n",
    "#             event.reply_token,\n",
    "#             TextSendMessage(text='格式錯誤')\n",
    "#         )"
   ]
  },
  {
   "cell_type": "code",
   "execution_count": 7,
   "metadata": {},
   "outputs": [],
   "source": [
    "# TextSendMessage.new_from_json_dict(jsonObject)"
   ]
  },
  {
   "cell_type": "code",
   "execution_count": 8,
   "metadata": {},
   "outputs": [],
   "source": [
    "#         存下來\n",
    "        \n",
    "#         ans_dict = {}\n",
    "#         ans_save = ans.to_csv('ans.csv', encoding = \"utf-8\")\n",
    "#         ans_read = pd.read_csv('ans.csv')\n",
    "#         ans_output = ans_read[['name', 'score']]\n",
    "# #         ans_dict['ans'] = ans_output\n",
    "#         print(ans_dict)\n",
    "#         name_list = list()\n",
    "#         score_list = list()\n",
    "        \n",
    "#         for i in range(len(ans_output)) :\n",
    "#             name_list.append(ans_output['name'][i])\n",
    "#             score_list.append(ans_output['score'][i])\n",
    "            \n",
    "#         ans_list = list()\n",
    "        \n",
    "#         for j in range(len(ans_output)) :\n",
    "#             ans_test = name_list[j] + '%.2f'%score_list[j]\n",
    "#             ans_list.append(ans_test)\n",
    "#         print(ans_list)\n",
    "        \n",
    "#         line_bot_api.push_message(\n",
    "#             event.message, \n",
    "#             TextSendMessage(text=\"hallo world\"))\n",
    "        \n",
    "#         line_bot_api.reply_message(\n",
    "#                 event.reply_token,\n",
    "#                 TextSendMessage(text=ans_dict))\n",
    "\n",
    "#         for i in range(len(ans.index)):\n",
    "#             saveAns += ans['name'].iloc[i] + str(ans['score'].iloc[i])+ '%' + '\\n'\n",
    "#             print('預測結果:\\n', ans_list)\n",
    "#             line_bot_api.reply_message(\n",
    "#                 event.reply_token,\n",
    "#                 TextSendMessage(text=ans_list))\n",
    "            \n",
    "#             line_bot_api.push_massage(\n",
    "#                 event.push_message,\n",
    "#                 TextSendMessage(text=ans_list)\n",
    "                \n",
    "                \n",
    "                \n",
    "#             CHANNEL_ACCESS_TOKEN = \"./line_secret_key\"\n",
    "#             to = \"./line_secret_key\""
   ]
  },
  {
   "cell_type": "code",
   "execution_count": 9,
   "metadata": {},
   "outputs": [
    {
     "data": {
      "text/html": [
       "<div>\n",
       "<style scoped>\n",
       "    .dataframe tbody tr th:only-of-type {\n",
       "        vertical-align: middle;\n",
       "    }\n",
       "\n",
       "    .dataframe tbody tr th {\n",
       "        vertical-align: top;\n",
       "    }\n",
       "\n",
       "    .dataframe thead th {\n",
       "        text-align: right;\n",
       "    }\n",
       "</style>\n",
       "<table border=\"1\" class=\"dataframe\">\n",
       "  <thead>\n",
       "    <tr style=\"text-align: right;\">\n",
       "      <th></th>\n",
       "      <th>name</th>\n",
       "      <th>score</th>\n",
       "    </tr>\n",
       "  </thead>\n",
       "  <tbody>\n",
       "    <tr>\n",
       "      <th>0</th>\n",
       "      <td>生那命</td>\n",
       "      <td>66.5</td>\n",
       "    </tr>\n",
       "    <tr>\n",
       "      <th>11</th>\n",
       "      <td>生旺SHENGWANG</td>\n",
       "      <td>66.5</td>\n",
       "    </tr>\n",
       "    <tr>\n",
       "      <th>1</th>\n",
       "      <td>生之活</td>\n",
       "      <td>66.5</td>\n",
       "    </tr>\n",
       "    <tr>\n",
       "      <th>20</th>\n",
       "      <td>生旺不銹鋼生旺888</td>\n",
       "      <td>66.5</td>\n",
       "    </tr>\n",
       "    <tr>\n",
       "      <th>19</th>\n",
       "      <td>生物之星</td>\n",
       "      <td>66.5</td>\n",
       "    </tr>\n",
       "  </tbody>\n",
       "</table>\n",
       "</div>"
      ],
      "text/plain": [
       "           name  score\n",
       "0           生那命   66.5\n",
       "11  生旺SHENGWANG   66.5\n",
       "1           生之活   66.5\n",
       "20   生旺不銹鋼生旺888   66.5\n",
       "19         生物之星   66.5"
      ]
     },
     "execution_count": 9,
     "metadata": {},
     "output_type": "execute_result"
    }
   ],
   "source": [
    "data = pd.DataFrame({\n",
    "    'name': ['生那命', '生旺SHENGWANG', '生之活', '生旺不銹鋼生旺888', '生物之星'],\n",
    "    'score': [66.5, 66.5, 66.5, 66.5, 66.5]\n",
    "})\n",
    "\n",
    "data.index = [0, 11, 1, 20, 19]\n",
    "data"
   ]
  },
  {
   "cell_type": "code",
   "execution_count": 10,
   "metadata": {
    "scrolled": true
   },
   "outputs": [
    {
     "name": "stdout",
     "output_type": "stream",
     "text": [
      "           name  score\n",
      "0           生那命   66.5\n",
      "11  生旺SHENGWANG   66.5\n",
      "1           生之活   66.5\n",
      "20   生旺不銹鋼生旺888   66.5\n",
      "19         生物之星   66.5\n"
     ]
    }
   ],
   "source": [
    "print(data)"
   ]
  },
  {
   "cell_type": "code",
   "execution_count": null,
   "metadata": {
    "scrolled": true
   },
   "outputs": [
    {
     "name": "stdout",
     "output_type": "stream",
     "text": [
      " * Serving Flask app \"__main__\" (lazy loading)\n",
      " * Environment: production\n",
      "   WARNING: This is a development server. Do not use it in a production deployment.\n",
      "   Use a production WSGI server instead.\n",
      " * Debug mode: off\n"
     ]
    },
    {
     "name": "stderr",
     "output_type": "stream",
     "text": [
      " * Running on http://0.0.0.0:5000/ (Press CTRL+C to quit)\n"
     ]
    },
    {
     "name": "stdout",
     "output_type": "stream",
     "text": [
      "星巴克 012\n"
     ]
    },
    {
     "name": "stderr",
     "output_type": "stream",
     "text": [
      "c:\\users\\uesr01\\appdata\\local\\programs\\python\\python37\\lib\\site-packages\\linebot\\webhook.py:260: DtypeWarning: Columns (0) have mixed types.Specify dtype option on import or set low_memory=False.\n",
      "  self.__invoke_func(func, event, payload)\n"
     ]
    },
    {
     "name": "stdout",
     "output_type": "stream",
     "text": [
      "                         name  score\n",
      "519         得希克兒デヒコ─ルDEHYCHOL  42.13\n",
      "589                  敵乃克DYNAX  42.13\n",
      "526                       賜漢克  42.13\n",
      "529                嘔百克APIQUEL  42.13\n",
      "534  帝納克福馬ＧＥＲＩＡＴＲＩＣＰＨＡＲＭＡＴＩＯＮ  42.13\n",
      "得希克兒デヒコ─ルDEHYCHOL 42.13\n",
      "得希克兒デヒコ─ルDEHYCHOL 42.13敵乃克DYNAX 42.13\n",
      "得希克兒デヒコ─ルDEHYCHOL 42.13敵乃克DYNAX 42.13賜漢克 42.13\n",
      "得希克兒デヒコ─ルDEHYCHOL 42.13敵乃克DYNAX 42.13賜漢克 42.13嘔百克APIQUEL 42.13\n",
      "得希克兒デヒコ─ルDEHYCHOL 42.13敵乃克DYNAX 42.13賜漢克 42.13嘔百克APIQUEL 42.13帝納克福馬ＧＥＲＩＡＴＲＩＣＰＨＡＲＭＡＴＩＯＮ 42.13\n"
     ]
    },
    {
     "name": "stderr",
     "output_type": "stream",
     "text": [
      "127.0.0.1 - - [01/Feb/2021 16:04:55] \"\u001b[37mPOST / HTTP/1.1\u001b[0m\" 200 -\n"
     ]
    },
    {
     "name": "stdout",
     "output_type": "stream",
     "text": [
      "可以看結果\n"
     ]
    }
   ],
   "source": [
    "'''\n",
    "\n",
    "Application 運行（開發版）\n",
    "\n",
    "'''\n",
    "if __name__ == \"__main__\":\n",
    "    app.run(host='0.0.0.0')"
   ]
  },
  {
   "cell_type": "code",
   "execution_count": null,
   "metadata": {},
   "outputs": [],
   "source": []
  }
 ],
 "metadata": {
  "kernelspec": {
   "display_name": "Python 3",
   "language": "python",
   "name": "python3"
  },
  "language_info": {
   "codemirror_mode": {
    "name": "ipython",
    "version": 3
   },
   "file_extension": ".py",
   "mimetype": "text/x-python",
   "name": "python",
   "nbconvert_exporter": "python",
   "pygments_lexer": "ipython3",
   "version": "3.7.4"
  }
 },
 "nbformat": 4,
 "nbformat_minor": 4
}
